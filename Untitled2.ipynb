{
 "cells": [
  {
   "cell_type": "code",
   "execution_count": 33,
   "metadata": {
    "collapsed": true
   },
   "outputs": [],
   "source": [
    "import pandas as pd\n",
    "import numpy as np\n",
    "import datetime\n",
    "from sklearn.cross_validation import LeaveOneOut\n",
    "from sklearn.grid_search import (GridSearchCV, RandomizedSearchCV)\n",
    "from sklearn.metrics import (mean_squared_error, mean_absolute_error)\n",
    "from sklearn.preprocessing import MinMaxScaler\n",
    "from sklearn.ensemble import ExtraTreesClassifier # Used for imputing rare / missing values\n",
    "# Regressors considered:\n",
    "from sklearn.svm import SVR\n",
    "from sklearn.neighbors import KNeighborsRegressor\n",
    "from sklearn.linear_model import Ridge # only model used for final submission\n",
    "from matplotlib.pyplot import *\n",
    "from matplotlib import pylab\n",
    "from pylab import *\n",
    "%matplotlib inline"
   ]
  },
  {
   "cell_type": "code",
   "execution_count": 16,
   "metadata": {
    "collapsed": false
   },
   "outputs": [
    {
     "name": "stdout",
     "output_type": "stream",
     "text": [
      "Train Dimensions:\n",
      "(137, 42)\n",
      "Test Dimensions:\n",
      "(100000, 41)\n"
     ]
    },
    {
     "data": {
      "text/html": [
       "<div>\n",
       "<table border=\"1\" class=\"dataframe\">\n",
       "  <thead>\n",
       "    <tr style=\"text-align: right;\">\n",
       "      <th></th>\n",
       "      <th>P1</th>\n",
       "      <th>P10</th>\n",
       "      <th>P11</th>\n",
       "      <th>P12</th>\n",
       "      <th>P13</th>\n",
       "      <th>P14</th>\n",
       "      <th>P15</th>\n",
       "      <th>P16</th>\n",
       "      <th>P17</th>\n",
       "      <th>P18</th>\n",
       "      <th>...</th>\n",
       "      <th>P35</th>\n",
       "      <th>P36</th>\n",
       "      <th>P37</th>\n",
       "      <th>P4</th>\n",
       "      <th>P5</th>\n",
       "      <th>P6</th>\n",
       "      <th>P7</th>\n",
       "      <th>P8</th>\n",
       "      <th>P9</th>\n",
       "      <th>revenue</th>\n",
       "    </tr>\n",
       "  </thead>\n",
       "  <tbody>\n",
       "    <tr>\n",
       "      <th>count</th>\n",
       "      <td>100137.000000</td>\n",
       "      <td>100137.000000</td>\n",
       "      <td>100137.000000</td>\n",
       "      <td>100137.000000</td>\n",
       "      <td>100137.000000</td>\n",
       "      <td>100137.000000</td>\n",
       "      <td>100137.000000</td>\n",
       "      <td>100137.000000</td>\n",
       "      <td>100137.000000</td>\n",
       "      <td>100137.000000</td>\n",
       "      <td>...</td>\n",
       "      <td>100137.000000</td>\n",
       "      <td>100137.000000</td>\n",
       "      <td>100137.000000</td>\n",
       "      <td>100137.000000</td>\n",
       "      <td>100137.000000</td>\n",
       "      <td>100137.000000</td>\n",
       "      <td>100137.000000</td>\n",
       "      <td>100137.000000</td>\n",
       "      <td>100137.000000</td>\n",
       "      <td>1.370000e+02</td>\n",
       "    </tr>\n",
       "    <tr>\n",
       "      <th>mean</th>\n",
       "      <td>4.087930</td>\n",
       "      <td>5.459011</td>\n",
       "      <td>3.311653</td>\n",
       "      <td>5.061765</td>\n",
       "      <td>5.086621</td>\n",
       "      <td>1.280276</td>\n",
       "      <td>1.305641</td>\n",
       "      <td>1.747336</td>\n",
       "      <td>1.156715</td>\n",
       "      <td>1.708789</td>\n",
       "      <td>...</td>\n",
       "      <td>1.833099</td>\n",
       "      <td>1.969222</td>\n",
       "      <td>0.973696</td>\n",
       "      <td>4.395992</td>\n",
       "      <td>1.989614</td>\n",
       "      <td>2.882551</td>\n",
       "      <td>5.300678</td>\n",
       "      <td>4.931304</td>\n",
       "      <td>5.251645</td>\n",
       "      <td>4.453533e+06</td>\n",
       "    </tr>\n",
       "    <tr>\n",
       "      <th>std</th>\n",
       "      <td>2.813085</td>\n",
       "      <td>1.763709</td>\n",
       "      <td>2.067903</td>\n",
       "      <td>1.765647</td>\n",
       "      <td>0.979414</td>\n",
       "      <td>2.497106</td>\n",
       "      <td>2.167272</td>\n",
       "      <td>3.172481</td>\n",
       "      <td>2.432137</td>\n",
       "      <td>3.030907</td>\n",
       "      <td>...</td>\n",
       "      <td>3.229052</td>\n",
       "      <td>3.806280</td>\n",
       "      <td>1.677427</td>\n",
       "      <td>1.035796</td>\n",
       "      <td>1.065518</td>\n",
       "      <td>1.532502</td>\n",
       "      <td>2.178739</td>\n",
       "      <td>1.718699</td>\n",
       "      <td>1.702825</td>\n",
       "      <td>2.576072e+06</td>\n",
       "    </tr>\n",
       "    <tr>\n",
       "      <th>min</th>\n",
       "      <td>1.000000</td>\n",
       "      <td>4.000000</td>\n",
       "      <td>1.000000</td>\n",
       "      <td>2.000000</td>\n",
       "      <td>3.000000</td>\n",
       "      <td>0.000000</td>\n",
       "      <td>0.000000</td>\n",
       "      <td>0.000000</td>\n",
       "      <td>0.000000</td>\n",
       "      <td>0.000000</td>\n",
       "      <td>...</td>\n",
       "      <td>0.000000</td>\n",
       "      <td>0.000000</td>\n",
       "      <td>0.000000</td>\n",
       "      <td>2.000000</td>\n",
       "      <td>1.000000</td>\n",
       "      <td>1.000000</td>\n",
       "      <td>1.000000</td>\n",
       "      <td>1.000000</td>\n",
       "      <td>4.000000</td>\n",
       "      <td>1.149870e+06</td>\n",
       "    </tr>\n",
       "    <tr>\n",
       "      <th>25%</th>\n",
       "      <td>2.000000</td>\n",
       "      <td>5.000000</td>\n",
       "      <td>2.000000</td>\n",
       "      <td>4.000000</td>\n",
       "      <td>5.000000</td>\n",
       "      <td>0.000000</td>\n",
       "      <td>0.000000</td>\n",
       "      <td>0.000000</td>\n",
       "      <td>0.000000</td>\n",
       "      <td>0.000000</td>\n",
       "      <td>...</td>\n",
       "      <td>0.000000</td>\n",
       "      <td>0.000000</td>\n",
       "      <td>0.000000</td>\n",
       "      <td>4.000000</td>\n",
       "      <td>1.000000</td>\n",
       "      <td>2.000000</td>\n",
       "      <td>5.000000</td>\n",
       "      <td>4.000000</td>\n",
       "      <td>4.000000</td>\n",
       "      <td>NaN</td>\n",
       "    </tr>\n",
       "    <tr>\n",
       "      <th>50%</th>\n",
       "      <td>3.000000</td>\n",
       "      <td>5.000000</td>\n",
       "      <td>3.000000</td>\n",
       "      <td>5.000000</td>\n",
       "      <td>5.000000</td>\n",
       "      <td>0.000000</td>\n",
       "      <td>0.000000</td>\n",
       "      <td>0.000000</td>\n",
       "      <td>0.000000</td>\n",
       "      <td>0.000000</td>\n",
       "      <td>...</td>\n",
       "      <td>0.000000</td>\n",
       "      <td>0.000000</td>\n",
       "      <td>0.000000</td>\n",
       "      <td>4.000000</td>\n",
       "      <td>2.000000</td>\n",
       "      <td>2.000000</td>\n",
       "      <td>5.000000</td>\n",
       "      <td>5.000000</td>\n",
       "      <td>5.000000</td>\n",
       "      <td>NaN</td>\n",
       "    </tr>\n",
       "    <tr>\n",
       "      <th>75%</th>\n",
       "      <td>4.000000</td>\n",
       "      <td>5.000000</td>\n",
       "      <td>4.000000</td>\n",
       "      <td>5.000000</td>\n",
       "      <td>5.000000</td>\n",
       "      <td>2.000000</td>\n",
       "      <td>2.000000</td>\n",
       "      <td>3.000000</td>\n",
       "      <td>2.000000</td>\n",
       "      <td>4.000000</td>\n",
       "      <td>...</td>\n",
       "      <td>4.000000</td>\n",
       "      <td>3.000000</td>\n",
       "      <td>2.000000</td>\n",
       "      <td>5.000000</td>\n",
       "      <td>2.000000</td>\n",
       "      <td>4.000000</td>\n",
       "      <td>5.000000</td>\n",
       "      <td>5.000000</td>\n",
       "      <td>5.000000</td>\n",
       "      <td>NaN</td>\n",
       "    </tr>\n",
       "    <tr>\n",
       "      <th>max</th>\n",
       "      <td>15.000000</td>\n",
       "      <td>10.000000</td>\n",
       "      <td>10.000000</td>\n",
       "      <td>10.000000</td>\n",
       "      <td>7.500000</td>\n",
       "      <td>15.000000</td>\n",
       "      <td>10.000000</td>\n",
       "      <td>15.000000</td>\n",
       "      <td>15.000000</td>\n",
       "      <td>15.000000</td>\n",
       "      <td>...</td>\n",
       "      <td>15.000000</td>\n",
       "      <td>20.000000</td>\n",
       "      <td>8.000000</td>\n",
       "      <td>7.500000</td>\n",
       "      <td>8.000000</td>\n",
       "      <td>10.000000</td>\n",
       "      <td>10.000000</td>\n",
       "      <td>10.000000</td>\n",
       "      <td>10.000000</td>\n",
       "      <td>1.969694e+07</td>\n",
       "    </tr>\n",
       "  </tbody>\n",
       "</table>\n",
       "<p>8 rows × 38 columns</p>\n",
       "</div>"
      ],
      "text/plain": [
       "                  P1            P10            P11            P12  \\\n",
       "count  100137.000000  100137.000000  100137.000000  100137.000000   \n",
       "mean        4.087930       5.459011       3.311653       5.061765   \n",
       "std         2.813085       1.763709       2.067903       1.765647   \n",
       "min         1.000000       4.000000       1.000000       2.000000   \n",
       "25%         2.000000       5.000000       2.000000       4.000000   \n",
       "50%         3.000000       5.000000       3.000000       5.000000   \n",
       "75%         4.000000       5.000000       4.000000       5.000000   \n",
       "max        15.000000      10.000000      10.000000      10.000000   \n",
       "\n",
       "                 P13            P14            P15            P16  \\\n",
       "count  100137.000000  100137.000000  100137.000000  100137.000000   \n",
       "mean        5.086621       1.280276       1.305641       1.747336   \n",
       "std         0.979414       2.497106       2.167272       3.172481   \n",
       "min         3.000000       0.000000       0.000000       0.000000   \n",
       "25%         5.000000       0.000000       0.000000       0.000000   \n",
       "50%         5.000000       0.000000       0.000000       0.000000   \n",
       "75%         5.000000       2.000000       2.000000       3.000000   \n",
       "max         7.500000      15.000000      10.000000      15.000000   \n",
       "\n",
       "                 P17            P18      ...                 P35  \\\n",
       "count  100137.000000  100137.000000      ...       100137.000000   \n",
       "mean        1.156715       1.708789      ...            1.833099   \n",
       "std         2.432137       3.030907      ...            3.229052   \n",
       "min         0.000000       0.000000      ...            0.000000   \n",
       "25%         0.000000       0.000000      ...            0.000000   \n",
       "50%         0.000000       0.000000      ...            0.000000   \n",
       "75%         2.000000       4.000000      ...            4.000000   \n",
       "max        15.000000      15.000000      ...           15.000000   \n",
       "\n",
       "                 P36            P37             P4             P5  \\\n",
       "count  100137.000000  100137.000000  100137.000000  100137.000000   \n",
       "mean        1.969222       0.973696       4.395992       1.989614   \n",
       "std         3.806280       1.677427       1.035796       1.065518   \n",
       "min         0.000000       0.000000       2.000000       1.000000   \n",
       "25%         0.000000       0.000000       4.000000       1.000000   \n",
       "50%         0.000000       0.000000       4.000000       2.000000   \n",
       "75%         3.000000       2.000000       5.000000       2.000000   \n",
       "max        20.000000       8.000000       7.500000       8.000000   \n",
       "\n",
       "                  P6             P7             P8             P9  \\\n",
       "count  100137.000000  100137.000000  100137.000000  100137.000000   \n",
       "mean        2.882551       5.300678       4.931304       5.251645   \n",
       "std         1.532502       2.178739       1.718699       1.702825   \n",
       "min         1.000000       1.000000       1.000000       4.000000   \n",
       "25%         2.000000       5.000000       4.000000       4.000000   \n",
       "50%         2.000000       5.000000       5.000000       5.000000   \n",
       "75%         4.000000       5.000000       5.000000       5.000000   \n",
       "max        10.000000      10.000000      10.000000      10.000000   \n",
       "\n",
       "            revenue  \n",
       "count  1.370000e+02  \n",
       "mean   4.453533e+06  \n",
       "std    2.576072e+06  \n",
       "min    1.149870e+06  \n",
       "25%             NaN  \n",
       "50%             NaN  \n",
       "75%             NaN  \n",
       "max    1.969694e+07  \n",
       "\n",
       "[8 rows x 38 columns]"
      ]
     },
     "execution_count": 16,
     "metadata": {},
     "output_type": "execute_result"
    }
   ],
   "source": [
    "# Kaggle added approximately 311.5 \"fake\" data points to the test for each real data point. \n",
    "# Dividing by this number gives more accurate counts of the \"real\" data in the test set.\n",
    "FAKE_DATA_RATIO = 311.5\n",
    "# Set a Random Seed\n",
    "SEED = 0\n",
    "# Read Kaggle Provided Data\n",
    "train = pd.read_csv('train.csv', index_col = 0, parse_dates=[1])\n",
    "test = pd.read_csv('test.csv', index_col = 0, parse_dates=[1])\n",
    "print \"Train Dimensions:\"\n",
    "print train.shape\n",
    "print \"Test Dimensions:\"\n",
    "print test.shape\n",
    "# Concatenate train and test together to pre-process and featurize both consistently.\n",
    "df = pd.concat((test, train), ignore_index=True)\n",
    "df.describe()"
   ]
  },
  {
   "cell_type": "code",
   "execution_count": 17,
   "metadata": {
    "collapsed": true
   },
   "outputs": [],
   "source": [
    "# Convert date strings to \"days open\" numerical value\n",
    "df[\"Open Date\"] = df[\"Open Date\"].apply(pd.to_datetime)\n",
    "last_date = df[\"Open Date\"].max()\n",
    "df[\"Open Date\"] = last_date - df[\"Open Date\"] # This becomes a datetime delta object\n",
    "df[\"Open Date\"] = df[\"Open Date\"].dt.days + 1 # converts the delta object to an int"
   ]
  },
  {
   "cell_type": "code",
   "execution_count": 18,
   "metadata": {
    "collapsed": true
   },
   "outputs": [],
   "source": [
    "df[\"Log Days Opened\"] = df[\"Open Date\"].apply(np.log)\n",
    "df = df.drop([\"Open Date\"], axis=1)"
   ]
  },
  {
   "cell_type": "code",
   "execution_count": 20,
   "metadata": {
    "collapsed": false
   },
   "outputs": [
    {
     "data": {
      "text/plain": [
       "<matplotlib.axes._subplots.AxesSubplot at 0xe523f28>"
      ]
     },
     "execution_count": 20,
     "metadata": {},
     "output_type": "execute_result"
    }
   ],
   "source": [
    "pylab.rcParams['figure.figsize'] = (8, 6) # Resizes plots\n",
    "df[[\"Log Days Opened\", \"revenue\"]].plot(x=\"Log Days Opened\", y=\"revenue\", kind='scatter', title=\"Log (Days Opened) vs Revenue\")"
   ]
  },
  {
   "cell_type": "code",
   "execution_count": 21,
   "metadata": {
    "collapsed": true
   },
   "outputs": [],
   "source": [
    "# The features with the notable zero behavior:\n",
    "zero_cols = ['P14', 'P15', 'P16', 'P17', 'P18', 'P24', 'P25', 'P26', 'P27', 'P30', 'P31', 'P32', 'P33', 'P34', 'P35', 'P36', 'P37']"
   ]
  },
  {
   "cell_type": "code",
   "execution_count": 22,
   "metadata": {
    "collapsed": true
   },
   "outputs": [],
   "source": [
    "# We make a feature that holds this count of zero columns in the above list\n",
    "df['zeros'] = (df[zero_cols] == 0).sum(1)"
   ]
  },
  {
   "cell_type": "code",
   "execution_count": 34,
   "metadata": {
    "collapsed": false
   },
   "outputs": [
    {
     "name": "stdout",
     "output_type": "stream",
     "text": [
      "Distribution of new Zeros features:\n"
     ]
    },
    {
     "data": {
      "text/plain": [
       "<matplotlib.axes._subplots.AxesSubplot at 0x159972e8>"
      ]
     },
     "execution_count": 34,
     "metadata": {},
     "output_type": "execute_result"
    },
    {
     "data": {
      "image/png": "[encoded data removed]",
      "text/plain": [
       "<matplotlib.figure.Figure at 0xa3be940>"
      ]
     },
     "metadata": {},
     "output_type": "display_data"
    }
   ],
   "source": [
    "pylab.rcParams['figure.figsize'] = (20, 8)\n",
    "fig, axs = plt.subplots(1,2)\n",
    "print \"Distribution of new Zeros features:\"\n",
    "# We find there is only 1 row with a zero count between 0 and 17 in the train set, \n",
    "df['zeros'].ix[pd.notnull(df.revenue)].value_counts().plot(title=\"Train Set\", kind='bar', ax=axs[0])"
   ]
  },
  {
   "cell_type": "code",
   "execution_count": 24,
   "metadata": {
    "collapsed": false
   },
   "outputs": [
    {
     "name": "stdout",
     "output_type": "stream",
     "text": [
      "Distribution of new Zeros features:\n"
     ]
    },
    {
     "data": {
      "text/plain": [
       "<matplotlib.axes._subplots.AxesSubplot at 0xee18828>"
      ]
     },
     "execution_count": 24,
     "metadata": {},
     "output_type": "execute_result"
    }
   ],
   "source": [
    "print \"Distribution of new Zeros features:\"\n",
    "# We find there is only 1 row with a zero count between 0 and 17 in the train set, \n",
    "df['zeros'].ix[pd.notnull(df.revenue)].value_counts().plot(title=\"Train Set\", kind='bar', ax=axs[0])"
   ]
  },
  {
   "cell_type": "code",
   "execution_count": 25,
   "metadata": {
    "collapsed": true
   },
   "outputs": [],
   "source": [
    "# dependence between columns was not preserved).\n",
    "df['zeros'].ix[pd.isnull(df.revenue)].value_counts().plot(title=\"Test Set\", kind='bar', ax=axs[1], color='red')\n",
    "plt.show()"
   ]
  },
  {
   "cell_type": "code",
   "execution_count": 26,
   "metadata": {
    "collapsed": false
   },
   "outputs": [
    {
     "name": "stdout",
     "output_type": "stream",
     "text": [
      "(100137, 44)\n"
     ]
    }
   ],
   "source": [
    "pylab.rcParams['figure.figsize'] = (6, 4) # Resizes plots\n",
    "# The two categories of City Group both appear very frequently\n",
    "train[\"City Group\"].value_counts().plot(title=\"City Group Distribution in the Train Set\", kind='bar')\n",
    "plt.show()\n",
    "# But two of the four Restaurant Types (DT and FC), are extremely rare\n",
    "train[\"Type\"].value_counts().plot(title=\"Restaurant Type Distribution in the Train Set\", kind='bar')\n",
    "plt.show()\n",
    "(test[\"Type\"].value_counts() / FAKE_DATA_RATIO).plot(title=\"Approximate Restaurant Type Distribution in True Test Set\", kind='bar', color='Red')\n",
    "plt.show()\n",
    "df = df.join(pd.get_dummies(df['City Group'], prefix=\"CG\"))\n",
    "df = df.join(pd.get_dummies(df['Type'], prefix=\"T\"))\n",
    "# Since only n-1 columns are needed to binarize n categories, drop one of the new columns.  \n",
    "# And drop the original columns.\n",
    "# And also drop the extremely rare restaurant types (which we handleed especially below)\n",
    "df = df.drop([\"City Group\", \"Type\", \"CG_Other\", \"T_MB\", \"T_DT\"], axis=1)\n",
    "print df.shape"
   ]
  },
  {
   "cell_type": "code",
   "execution_count": 27,
   "metadata": {
    "collapsed": false
   },
   "outputs": [
    {
     "name": "stdout",
     "output_type": "stream",
     "text": [
      "Some example estimated counts of restaurants per city:\n",
      "Adana             11.070626\n",
      "Afyonkarahisar     2.062600\n",
      "Aksaray            2.086677\n",
      "Amasya             1.000000\n",
      "Ankara            46.993579\n",
      "Name: City, dtype: float64\n"
     ]
    },
    {
     "data": {
      "text/plain": [
       "<matplotlib.axes._subplots.AxesSubplot at 0x15974da0>"
      ]
     },
     "execution_count": 27,
     "metadata": {},
     "output_type": "execute_result"
    }
   ],
   "source": [
    "# Replace city names with\n",
    "# count of their frequency in the train + estimated frequency in the test set.\n",
    "city_counts = (test[\"City\"].value_counts() / FAKE_DATA_RATIO).add(train[\"City\"].value_counts(), fill_value=0)\n",
    "df[\"City\"] = df[\"City\"].replace(city_counts)\n",
    "print \"Some example estimated counts of restaurants per city:\"\n",
    "print city_counts.head()\n",
    "# Take log of city count so that the marginal effect decreases\n",
    "df[\"Log City Count\"] = df[\"City\"].apply(np.log) \n",
    "df = df.drop([\"City\"], axis=1)\n",
    "# That last vertical spread of points are restaurants from Istanbul.\n",
    "pylab.rcParams['figure.figsize'] = (8, 6) # Resizes plots\n",
    "df[[\"Log City Count\", \"revenue\"]].plot(x=\"Log City Count\", y=\"revenue\", kind='scatter', title=\"Log City Count vs Revenue\")"
   ]
  },
  {
   "cell_type": "code",
   "execution_count": 28,
   "metadata": {
    "collapsed": false
   },
   "outputs": [
    {
     "name": "stdout",
     "output_type": "stream",
     "text": [
      "type training set shape: (136, 44)\n",
      "data to impute: (2535, 44)\n",
      "Best parameters for Type Model:\n",
      "{'min_samples_split': 16, 'max_features': 0.5, 'max_depth': 8, 'min_samples_leaf': 1}\n",
      "% labeled FC in the training set: 0.587135624195\n",
      "% of imputed values labeled FC: 0.670216962525\n",
      "Pre-binarizing columns: 43\n",
      "P1 9 unique values\n",
      "P10 4 unique values\n",
      "P11 8 unique values\n",
      "P12 7 unique values\n",
      "P13 5 unique values\n",
      "P14 10 unique values\n",
      "P15 9 unique values\n",
      "P16 10 unique values\n",
      "P17 10 unique values\n",
      "P18 9 unique values\n",
      "P19 9 unique values\n",
      "P2 9 unique values\n",
      "P20 9 unique values\n",
      "P21 9 unique values\n",
      "P22 5 unique values\n",
      "P23 9 unique values\n",
      "P24 9 unique values\n",
      "P25 9 unique values\n",
      "P26 10 unique values\n",
      "P27 10 unique values\n",
      "P28 9 unique values\n",
      "P29 8 unique values\n",
      "P3 8 unique values\n",
      "P30 10 unique values\n",
      "P31 10 unique values\n",
      "P32 10 unique values\n",
      "P33 7 unique values\n",
      "P34 11 unique values\n",
      "P35 8 unique values\n",
      "P36 10 unique values\n",
      "P37 8 unique values\n",
      "P4 7 unique values\n",
      "P5 7 unique values\n",
      "P6 8 unique values\n",
      "P7 7 unique values\n",
      "P8 8 unique values\n",
      "P9 5 unique values\n",
      "Post-binarizing columns: 279\n"
     ]
    }
   ],
   "source": [
    "# Impute values for the very rare restaurant types. \n",
    "# Instead of trying to predict with values that appear only 1 or 0 times in the train set, \n",
    "# we will replace them with one of the other commonly appearing categories by fitting a \n",
    "# model that predicts which common category they \"should\" be.\n",
    "# tofit are the rows in the train set that belong to one of the common restaurnat types\n",
    "tofit = df.ix[((df.T_FC==1) | (df.T_IL==1)) & (pd.notnull(df.revenue))]\n",
    "# tofill are rows in either train or test that belong to one of the rare types\n",
    "tofill = df.ix[((df.T_FC==0) & (df.T_IL==0))]\n",
    "print \"type training set shape:\", tofit.shape\n",
    "print \"data to impute:\", tofill.shape\n",
    "# Resaruants with type FC are labeled 1, those with type IL are labeled 0.\n",
    "y = tofit.T_FC\n",
    "# Drop the label columns and revenue (which is not in the test set, so can't be used here)\n",
    "X = tofit.drop([\"T_FC\", \"T_IL\", \"revenue\"], axis=1)\n",
    "# Define and train a model to impute restaurant type\n",
    "# The grid below just has a range of values that I've found commonly\n",
    "# work well with random forest type models (of which ExtraTrees is one).\n",
    "model_grid = {'max_depth': [None, 8], 'min_samples_split': [4,9,16], 'min_samples_leaf':[1,4], 'max_features':['sqrt', 0.5, None]}\n",
    "type_model = ExtraTreesClassifier(n_estimators=25, random_state=SEED)\n",
    "grid = RandomizedSearchCV(type_model, model_grid, n_iter=10, cv=5, scoring=\"roc_auc\")\n",
    "grid.fit(X, y)\n",
    "print(\"Best parameters for Type Model:\")\n",
    "print(grid.best_params_)\n",
    "type_model.set_params(**grid.best_params_)\n",
    "type_model.fit(X, y)\n",
    "imputations = type_model.predict(tofill.drop([\"T_FC\", \"T_IL\", \"revenue\"], axis=1))\n",
    "df.loc[(df.T_FC==0) & (df.T_IL==0), \"T_FC\"] = imputations\n",
    "df = df.drop([\"T_IL\"], axis=1)\n",
    "print \"% labeled FC in the training set:\", df.T_FC.mean()\n",
    "print \"% of imputed values labeled FC:\", np.mean(imputations)\n",
    "# Now binarize the \"P\" columns with dummy variables\n",
    "print \"Pre-binarizing columns:\", len(df.columns)\n",
    "for col in df.columns:\n",
    "    if col[0] == 'P':\n",
    "        print col, len(df[col].unique()), \"unique values\"\n",
    "        df = df.join(pd.get_dummies(df[col], prefix=col))\n",
    "        df = df.drop([col, df.columns[-1]], axis=1)\n",
    "print \"Post-binarizing columns:\", len(df.columns)"
   ]
  },
  {
   "cell_type": "code",
   "execution_count": 32,
   "metadata": {
    "collapsed": true
   },
   "outputs": [],
   "source": []
  },
  {
   "cell_type": "code",
   "execution_count": null,
   "metadata": {
    "collapsed": true
   },
   "outputs": [],
   "source": []
  }
 ],
 "metadata": {
  "kernelspec": {
   "display_name": "Python [Root]",
   "language": "python",
   "name": "Python [Root]"
  },
  "language_info": {
   "codemirror_mode": {
    "name": "ipython",
    "version": 2
   },
   "file_extension": ".py",
   "mimetype": "text/x-python",
   "name": "python",
   "nbconvert_exporter": "python",
   "pygments_lexer": "ipython2",
   "version": "2.7.12"
  }
 },
 "nbformat": 4,
 "nbformat_minor": 0
}
